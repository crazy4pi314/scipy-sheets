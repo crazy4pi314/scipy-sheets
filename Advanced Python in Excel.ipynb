{
 "cells": [
  {
   "cell_type": "markdown",
   "id": "0832acf7",
   "metadata": {},
   "source": [
    "# Advanced Python in Excel\n",
    "\n",
    "### SciPy 2025: Develop Pythonic spreadsheets running Python in and out of the grid\n",
    "\n",
    "https://cfp.scipy.org/scipy2025/talk/LZWWA3/\n",
    "\n",
    "### Presenters:\n",
    "\n",
    "- Jim Kitchen (Anaconda)\n",
    "- Sarah Kaiser (Microsoft)\n",
    "\n",
    "### Necessary Tools\n",
    "\n",
    "- Python in Excel\n",
    "   - Should be available in most versions of Excel\n",
    "   - Try typing `=PY` and hit tab"
   ]
  },
  {
   "cell_type": "markdown",
   "id": "4cd38f9e",
   "metadata": {},
   "source": [
    "# Python in Excel Review"
   ]
  },
  {
   "cell_type": "markdown",
   "id": "b1c47a84",
   "metadata": {},
   "source": [
    "#### 1\n",
    "\n",
    "Create a `=PY` cell in **D1** and type\n",
    "```python\n",
    "df = pd.DataFrame({\n",
    "    'Student': ['Alice', 'Bob', 'Cesar', 'Dot', 'Eustace'],\n",
    "    'Score': [94, 65, 96, 78, 89]\n",
    "})\n",
    "df.sort_values('Score', ascending=False).reset_index(drop=True)\n",
    "```\n",
    "\n",
    "Open the card view. A useful view of the DataFrame is presented, but there are additional attributes available."
   ]
  },
  {
   "cell_type": "markdown",
   "id": "b258d67c",
   "metadata": {},
   "source": [
    "---\n",
    "#### 2\n",
    "\n",
    "Type in cell **G1**\n",
    "\n",
    "```\n",
    "=D1.arrayPreview\n",
    "```\n",
    "\n",
    "The values from the DataFrame should spill to G1:I6\n",
    "\n",
    "**NOTE**: If the DataFrame were larger, this would not include all the values. It only includes all the values if the DataFrame is small."
   ]
  },
  {
   "cell_type": "markdown",
   "id": "727f06ff",
   "metadata": {},
   "source": [
    "---\n",
    "#### 3\n",
    "\n",
    "Type in cell **G8**\n",
    "```\n",
    "=D1.Python_type\n",
    "```\n",
    "\n",
    "This returns the Python string for the pandas DataFrame type."
   ]
  },
  {
   "cell_type": "markdown",
   "id": "83980aff",
   "metadata": {},
   "source": [
    "---\n",
    "#### 4\n",
    "\n",
    "Now switch the output type of cell **D1** from **Python Object** to **Excel Value**\n",
    "\n",
    "The full DataFrame spills in D1:E6, and the card attributes are no longer available.\n",
    "\n",
    "This highlights the benefits of both output types:\n",
    "\n",
    "- Python Object can have additional attributes\n",
    "- Excel Value makes the full data in the grid\n",
    "\n",
    "The choice of which to use is up to you, but the best choice is often a Python `dict` returned as an Excel Value."
   ]
  },
  {
   "cell_type": "markdown",
   "id": "ce022f97-fbce-4643-a7d7-ab30bbd6f768",
   "metadata": {},
   "source": [
    "---\n",
    "### Built-in Reprs\n",
    "\n",
    "Excel has built-in handling of the following types:\n",
    "\n",
    "1. Lists / 1D arrays\n",
    "2. Lists of lists / 2D arrays / DataFrames\n",
    "3. Dictionaries\n",
    "4. Static images / Matplotlib charts\n",
    "\n",
    "Let's look at these before building our own custom reprs."
   ]
  },
  {
   "cell_type": "markdown",
   "id": "2f8dfc47-b374-42fd-9fcd-7c170101c57d",
   "metadata": {},
   "source": [
    "---\n",
    "#### 5\n",
    "\n",
    "Create a `=PY` cell in **A10** and type\n",
    "```python\n",
    "[1, 3, 5, 7, 9]\n",
    "```\n",
    "\n",
    "Open the card view and observe the **List View** of a card."
   ]
  },
  {
   "cell_type": "markdown",
   "id": "6c046e2a-23b1-44ee-a1c4-36f75b21495e",
   "metadata": {},
   "source": [
    "---\n",
    "#### 6\n",
    "\n",
    "Create a `=PY` cell in **D10** and type\n",
    "```python\n",
    "[[1, 2, 3], [4, 5, 6]]\n",
    "```\n",
    "\n",
    "Open the card view and observe the **Array View** of a card.\n",
    "\n",
    "If you open the card view for **D1**, you will see a similar Array View with a _**header row**_."
   ]
  },
  {
   "cell_type": "markdown",
   "id": "ecc04a4c",
   "metadata": {},
   "source": [
    "---\n",
    "#### 7\n",
    "\n",
    "Create a `=PY` cell in **G10** and type\n",
    "```python\n",
    "{\n",
    "  \"So\": True,\n",
    "  \"cherry\": \"pie\",\n",
    "  3: 14,\n",
    "  \"A\": xl(\"A10#\"),\n",
    "  \"B\": xl(\"D10#\"),\n",
    "}\n",
    "```\n",
    "\n",
    "Open the card view and observe each key: value pair. Notice that A and B simply show the type, not the actual values."
   ]
  },
  {
   "cell_type": "markdown",
   "id": "d7f0e9f3-17af-4d26-9750-84f0e6157c3c",
   "metadata": {},
   "source": [
    "---\n",
    "#### 8\n",
    "\n",
    "We can access these values as card attributes.\n",
    "\n",
    "Type the following into the indicated cells:\n",
    "\n",
    "- **I10**  =G10.So\n",
    "- **I11**  =G10.cherry\n",
    "- **I12**  =G10.3\n",
    "- **I13**  =G10.A\n",
    "- **K10**  =G10.B\n",
    "\n",
    "We get the values out of the dictionary. Exciting! But not helpful for \"A\" and \"B\"."
   ]
  },
  {
   "cell_type": "markdown",
   "id": "8d58d191-ef79-4e28-8cbd-8d47e75b4ad5",
   "metadata": {},
   "source": [
    "---\n",
    "#### 9\n",
    "\n",
    "Switch the output type of G10 to **Excel Value**.\n",
    "\n",
    "Now we get the values we want in **I13** and **K10**!\n",
    "\n",
    "And G10 stays in a compact form. Best of both worlds. In fact, open the card view in **G10** and view the upgrades.\n",
    "\n",
    "We now have drill-down capabilities."
   ]
  },
  {
   "cell_type": "markdown",
   "id": "1b3f235b",
   "metadata": {},
   "source": [
    "---\n",
    "#### 10\n",
    "\n",
    "I personally think a Python dict in Excel Value output mode is the most useful return type.\n",
    "\n",
    "1. Compact form\n",
    "2. Access to full values\n",
    "3. Ability to return multiple values from a Python cell\n",
    "\n",
    "I don't necessarily like the icon or the \"dict\" label, but we can improve on that using Custom Reprs."
   ]
  },
  {
   "cell_type": "markdown",
   "id": "dbdc6c60-ca44-4a93-8aa4-056aaf4da7e0",
   "metadata": {},
   "source": [
    "---\n",
    "### Images\n",
    "\n",
    "Before we move on, let's talk about images.\n",
    "\n",
    "Excel can display static images in data cards and in cells."
   ]
  },
  {
   "cell_type": "markdown",
   "id": "aeec64ed-9dc8-4ee0-af30-5cd8de90bfed",
   "metadata": {},
   "source": [
    "---\n",
    "#### 11\n",
    "\n",
    "Create a `=PY` cell in **A12** and type\n",
    "```python\n",
    "df.plot(kind='bar', x='Student', y='Score')\n",
    "```\n",
    "\n",
    "The card view shows both the image and the size."
   ]
  },
  {
   "cell_type": "markdown",
   "id": "317c352e-0eca-49c4-892d-e7e99c622e78",
   "metadata": {},
   "source": [
    "---\n",
    "#### 12\n",
    "\n",
    "The image can be accessed as `=A12.image`, but I find it most useful to convert to **Excel Value**.\n",
    "\n",
    "When doing this, a new hover icon appears to **Create Reference**. This will create a floating image linked to the cell."
   ]
  },
  {
   "cell_type": "markdown",
   "id": "ab5b0515",
   "metadata": {},
   "source": [
    "---\n",
    "# Custom Reprs\n",
    "\n",
    "Now we will look at controlling how Python objects are rendered in Excel, both as an Excel Value and as a Python Object."
   ]
  },
  {
   "cell_type": "markdown",
   "id": "103a2435",
   "metadata": {},
   "source": [
    "#### 13 - Fresh Start\n",
    "\n",
    "Let's create a new sheet named \"Custom Reprs\" to keep our learning cleanly separated."
   ]
  },
  {
   "cell_type": "markdown",
   "id": "716a821b",
   "metadata": {},
   "source": [
    "---\n",
    "### Question\n",
    "\n",
    "What if your Python object is not one of the built-in types?\n",
    "\n",
    "One approach is to manually return one of the built-in types as the last call in your cell."
   ]
  },
  {
   "cell_type": "markdown",
   "id": "ff0981f3",
   "metadata": {},
   "source": [
    "#### 14\n",
    "Let's look at how Excel handles Python's `complex` numbers.\n",
    "\n",
    "*Hint: it doesn't*\n",
    "\n",
    "Create a `=PY` cell in **D1**\n",
    "```python\n",
    "c = 25 + 42j\n",
    "```\n",
    "\n",
    "The default entity card is used.\n",
    "\n",
    "Can we access the `real` and `imag` pieces?\n",
    "\n",
    "No. Excel doesn't know anything about the `complex` data type."
   ]
  },
  {
   "cell_type": "markdown",
   "id": "75cc4d2a-4ef4-4afe-b3c0-a66a896a7a91",
   "metadata": {},
   "source": [
    "---\n",
    "#### 15\n",
    "\n",
    "Switch the output to Excel Value.\n",
    "\n",
    "Observe that we get an `#N/A` error. Excel doesn't know how to display a complex number."
   ]
  },
  {
   "cell_type": "markdown",
   "id": "24c7e833",
   "metadata": {},
   "source": [
    "---\n",
    "#### 16\n",
    "Let's help Excel out by giving it something it *does* know how to render.\n",
    "```python\n",
    "c = 25 + 42j\n",
    "[c.real, c.imag]\n",
    "```\n",
    "\n",
    "Now we get the complex number split into real and imaginary components in the grid."
   ]
  },
  {
   "cell_type": "markdown",
   "id": "3a64658e",
   "metadata": {},
   "source": [
    "#### 17\n",
    "If we wanted it to spill horizontally, we could do that as well.\n",
    "```python\n",
    "c = 25 + 42j\n",
    "[[c.real, c.imag]]\n",
    "```"
   ]
  },
  {
   "cell_type": "markdown",
   "id": "43b3e5e4",
   "metadata": {},
   "source": [
    "---\n",
    "### Associate a type with a repr\n",
    "\n",
    "Excel has a mechanism to associate any Python object with a repr function. Let's create one now to handle `complex` types.\n",
    "\n",
    "**NOTE**: Ideally this would go in Initialization, but as it's not editable, we will place this in cell A1."
   ]
  },
  {
   "cell_type": "markdown",
   "id": "bad1b6f5",
   "metadata": {},
   "source": [
    "#### 18\n",
    "Create a `=PY` cell in **A1**\n",
    "```python\n",
    "def _complex_value_repr(c):\n",
    "    return [[c.real, c.imag]]\n",
    "\n",
    "excel.repr.register_repr_xl_value(complex, _complex_value_repr)\n",
    "```\n",
    "\n",
    "This creates a function to return the horizontal result we built previously. Then we register the function for the `complex` type."
   ]
  },
  {
   "cell_type": "markdown",
   "id": "41be6c48-889b-4ef5-a255-37defe49ee3e",
   "metadata": {},
   "source": [
    "---\n",
    "#### 19\n",
    "Change cell **D1** so it returns a complex number\n",
    "```python\n",
    "c = 25 + 42j\n",
    "```\n",
    "\n",
    "It now works because `_complex_value_repr` is being called to render the object as an Excel value."
   ]
  },
  {
   "cell_type": "markdown",
   "id": "ba241491-f5cb-414d-b717-8f47debcbbf5",
   "metadata": {},
   "source": [
    "---\n",
    "#### 20\n",
    "\n",
    "Let's update how the Python Object is represented.\n",
    "\n",
    "Go ahead and change `**D1**` back to `Python Object` output mode."
   ]
  },
  {
   "cell_type": "markdown",
   "id": "be08b001-c421-4fcb-ae31-31db091bac6d",
   "metadata": {},
   "source": [
    "---\n",
    "#### 21\n",
    "\n",
    "Edit cell **A1**\n",
    "\n",
    "Add the following code:\n",
    "```python\n",
    "def _complex_preview_repr(c):\n",
    "    return { 'real': c.real, 'imag': c.imag }\n",
    "\n",
    "excel.repr.register_repr_xl_preview(complex, _complex_preview_repr)\n",
    "```\n",
    "\n",
    "Run the cell and watch **D1** change to a `dict` output with `real` and `imag` properties available."
   ]
  },
  {
   "cell_type": "markdown",
   "id": "486e0c23-1b31-4d46-9f5c-ea583043c727",
   "metadata": {},
   "source": [
    "---\n",
    "\n",
    "### Recap for Associating a type with a Custom Repr\n",
    "\n",
    "1. Define a function\n",
    "2. Register the function using\n",
    "    - `excel.repr.register_repr_xl_value(type, function)` for Excel Value output\n",
    "    - `excel.repr.register_repr_xl_preview(type, function)` for Python Object output\n",
    "3. Note: Provide the Python type or class (ex. complex), not a string ('complex')"
   ]
  },
  {
   "cell_type": "markdown",
   "id": "6db10254",
   "metadata": {},
   "source": [
    "---\n",
    "### Alternate method for Classes\n",
    "\n",
    "If you are creating your own custom Class, there are special methods `_repr_xl_value_` and `_repr_xl_preview_` which will achieve the same result without requiring you to register a repr function.\n",
    "\n",
    "If you are writing your own class, this is the better approach."
   ]
  },
  {
   "cell_type": "markdown",
   "id": "98d8e798",
   "metadata": {},
   "source": [
    "#### 22\n",
    "Create a `=PY` cell in **A2**\n",
    "```python\n",
    "import math\n",
    "\n",
    "class Point:\n",
    "    def __init__(self, x, y):\n",
    "        self.x = x\n",
    "        self.y = y\n",
    "    \n",
    "    def distance(self):\n",
    "        return math.sqrt(self.x ** 2 + self.y ** 2)\n",
    "    \n",
    "    def _repr_xl_value_(self):\n",
    "        return [['x', self.x],\n",
    "                ['y', self.y]]\n",
    "\n",
    "\"Point class\"\n",
    "```\n",
    "\n",
    "_**Note**_: It is good practice to return a string in cells where you are defining functions. Instead of showing \"None\", it helps you remember what the cell is doing."
   ]
  },
  {
   "cell_type": "markdown",
   "id": "f6541d73",
   "metadata": {},
   "source": [
    "---\n",
    "#### 23\n",
    "Create a `Point` in cell **A5**\n",
    "```python\n",
    "p = Point(3, 4)\n",
    "```\n",
    "\n",
    "Change the output type to Excel Value and see how the `_repr_xl_value_` function controls how the object is spilled to Excel.\n",
    "\n",
    "**NOTE**: Notice that I didn't have to register this. Any class with this special function will use it to represent itself in Excel."
   ]
  },
  {
   "cell_type": "markdown",
   "id": "73969509-54f9-41ab-998a-eaf6bf14b5f5",
   "metadata": {},
   "source": []
  },
  {
   "cell_type": "markdown",
   "id": "7ce6a9a3",
   "metadata": {},
   "source": [
    "---\n",
    "### Custom Entity Cards\n",
    "\n",
    "Up to this point, we have simply transformed a Python object into something Excel knows how to represent\n",
    "\n",
    "- complex -> dict\n",
    "- complex -> list\n",
    "- Point -> list of lists\n",
    "\n",
    "---\n",
    "**NOTE**: We're about to go deep!\n",
    "\n",
    "Excel has a way to customize the `Python Object` card view by returning a specially formatted dictionary.\n",
    "\n",
    "Detailed information about entity cards: https://learn.microsoft.com/en-us/office/dev/add-ins/excel/excel-data-types-entity-card"
   ]
  },
  {
   "cell_type": "markdown",
   "id": "8992b51b",
   "metadata": {},
   "source": [
    "#### 24\n",
    "Let's create a custom entity card for complex numbers.\n",
    "\n",
    "Update the preview code in cell **A1**\n",
    "```python\n",
    "def _complex_preview_repr(c):\n",
    "    return {\n",
    "        \"type\": \"Entity\",\n",
    "        \"text\": f\"complex({c.real}, {c.imag})\",\n",
    "        \"properties\": {\n",
    "            \"real\": c.real,\n",
    "            \"imag\": c.imag,\n",
    "        },\n",
    "    }\n",
    "\n",
    "excel.repr.register_repr_xl_preview(complex, _complex_preview_repr)\n",
    "\n",
    "\"complex repr\"\n",
    "```\n",
    "\n",
    "After running this, notice that **D1** looks much nicer.\n",
    "\n",
    "And it still have `real` and `imag` properties!"
   ]
  },
  {
   "cell_type": "markdown",
   "id": "cb4295d9",
   "metadata": {},
   "source": [
    "---\n",
    "#### Power Tip\n",
    "\n",
    "For the preview repr, only 3 things are needed in the dict:\n",
    "\n",
    "- `type`: str -- must be `\"Entity\"`\n",
    "- `text`: str\n",
    "- `properties`: dict\n",
    "\n",
    "There are other ways to customize the output, but these are the minimum required for Excel to build a card view."
   ]
  },
  {
   "cell_type": "markdown",
   "id": "19c6d046",
   "metadata": {},
   "source": [
    "---\n",
    "#### 25\n",
    "Why does `imag` come before `real`? Excel sorts properties alphabetically by default.\n",
    "\n",
    "We can change the order by defining a `layout`."
   ]
  },
  {
   "cell_type": "markdown",
   "id": "60e0f1f2",
   "metadata": {},
   "source": [
    "---\n",
    "#### 26\n",
    "Let's force `real` to come before `imag`.\n",
    "\n",
    "Update cell **A1**\n",
    "```python\n",
    "def _complex_preview_repr(c):\n",
    "    return {\n",
    "        \"type\": \"Entity\",\n",
    "        \"text\": f\"complex({c.real}, {c.imag})\",\n",
    "        \"properties\": {\n",
    "            \"real\": c.real,\n",
    "            \"imag\": c.imag,\n",
    "        },\n",
    "        #####################\n",
    "        # This part is new\n",
    "        #####################\n",
    "        \"layouts\": {\n",
    "            \"card\": {\n",
    "                \"sections\": [\n",
    "                    {\n",
    "                        \"layout\": \"List\",\n",
    "                        \"properties\": [\"real\", \"imag\"],\n",
    "                    },\n",
    "                ],\n",
    "            },\n",
    "        },\n",
    "        ######################\n",
    "    }\n",
    "```"
   ]
  },
  {
   "cell_type": "markdown",
   "id": "de562f10",
   "metadata": {},
   "source": [
    "---\n",
    "#### 27\n",
    "Let's add some new properties.\n",
    "\n",
    "We want:\n",
    "\n",
    "1. `vector` -- both real and imag as a tuple\n",
    "2. `R` -- the length of the (real, imag) vector\n",
    "3. `theta` -- the angle in radians of the (real, imag) vector\n",
    "\n",
    "Update cell **A1**:\n",
    "```python\n",
    "import math # <-- add this\n",
    "\n",
    "# ...\n",
    "\n",
    "def _complex_preview_repr(c):\n",
    "    return {\n",
    "        \"type\": \"Entity\",\n",
    "        \"text\": f\"complex({c.real}, {c.imag})\",\n",
    "        \"properties\": {\n",
    "            \"real\": c.real,\n",
    "            \"imag\": c.imag,\n",
    "            \"vector\": (c.real, c.imag),\n",
    "            \"R\": abs(c),\n",
    "            \"theta\": math.atan2(c.imag, c.real),\n",
    "        },\n",
    "        \"layouts\": {\n",
    "            \"card\": {\n",
    "                \"sections\": [\n",
    "                    {\n",
    "                        \"layout\": \"List\",\n",
    "                        \"properties\": [\"real\", \"imag\"],\n",
    "                    },\n",
    "                    {\n",
    "                        \"layout\": \"List\",\n",
    "                        \"properties\": [\"vector\", \"R\", \"theta\"],\n",
    "                    },\n",
    "                ],\n",
    "            },\n",
    "        },\n",
    "    }\n",
    "```"
   ]
  },
  {
   "cell_type": "markdown",
   "id": "a3817c85",
   "metadata": {},
   "source": [
    "---\n",
    "#### 28\n",
    "Extract the `vector` Field. One thing to notice is that these fields are normal Excel objects. They can be placed anywhere (doesn't need to respect row-major order).\n",
    "\n",
    "Also, you can mix them with other Excel formulas.\n",
    "Try this:\n",
    "```\n",
    "=TRANSPOSE(D1.vector)\n",
    "```"
   ]
  },
  {
   "cell_type": "markdown",
   "id": "3def208b",
   "metadata": {},
   "source": [
    "---\n",
    "### Bonus - Icons!\n",
    "\n",
    "Card views aren't only for a `Python Object` preview. You can also return them for `Excel Value` output type.\n",
    "\n",
    "There is one additional feature unlocked for `Excel Value` -- you can specify a custom icon."
   ]
  },
  {
   "cell_type": "markdown",
   "id": "796b096a-8905-4a94-8f2a-b54dc46f3eb9",
   "metadata": {},
   "source": [
    "---\n",
    "#### 29\n",
    "\n",
    "Let's change the Point class `Excel Value` to be a card view.\n",
    "\n",
    "Edit cell **A2**. Replace the `_repr_xl_value_` method.\n",
    "```python\n",
    "    def _repr_xl_value_(self):\n",
    "        return {\n",
    "            \"type\": \"Entity\",\n",
    "            \"text\": f\"Point<{self.x},{self.y}>\",\n",
    "            \"properties\": {\n",
    "                \"x\": self.x,\n",
    "                \"y\": self.y,\n",
    "                \"length\": self.distance(),\n",
    "            },\n",
    "            \"layouts\": {\n",
    "                \"compact\": {\n",
    "                    \"icon\": \"DataScatter\",\n",
    "                },\n",
    "                \"card\": {\n",
    "                    \"sections\": [\n",
    "                        {\n",
    "                            \"layout\": \"List\",\n",
    "                            \"properties\": [\"x\", \"y\", \"length\"],\n",
    "                        }\n",
    "                    ]\n",
    "                }\n",
    "            }\n",
    "        }\n",
    "```\n",
    "\n",
    "Now we have a fun icon in **A5** so our Point object stands out!"
   ]
  },
  {
   "cell_type": "markdown",
   "id": "6c0aadeb-626b-47bb-8e38-05f1f8a01bc8",
   "metadata": {},
   "source": [
    "---\n",
    "### Build Time!\n",
    "\n",
    "#### 30\n",
    "\n",
    "Let's create a `Result` class which improves on the dictionary representation.\n",
    "\n",
    "#### Challenge\n",
    "\n",
    "1. Create a class `Result` which takes\n",
    "   - d\n",
    "   - name\n",
    "   - icon\n",
    "2. Add a `_repr_xl_value_` function which returns a card view using d, name, and icon\n",
    "3. Add a `_repr_xl_preview_` function which calls `_repr_xl_value_`\n",
    "4. Create a `Result` in a cell and test it out"
   ]
  },
  {
   "cell_type": "markdown",
   "id": "099c7060",
   "metadata": {},
   "source": [
    "---\n",
    "# Data Conversion using xl()\n",
    "\n",
    "Python in Excel has default conversion from Excel types to Python types when using `xl()`, but this can be overridden."
   ]
  },
  {
   "cell_type": "markdown",
   "id": "fb7d1116",
   "metadata": {},
   "source": [
    "---\n",
    "#### 31 - Fresh Start\n",
    "\n",
    "Add a new sheet and rename it \"Data Conversion\".\n",
    "\n",
    "You should now have three sheets:\n",
    "\n",
    "- Review\n",
    "- Custom Repr\n",
    "- Data Conversion (active)"
   ]
  },
  {
   "cell_type": "markdown",
   "id": "f54cc620",
   "metadata": {},
   "source": [
    "---\n",
    "### Scalar xl() conversion"
   ]
  },
  {
   "cell_type": "markdown",
   "id": "9068656c",
   "metadata": {},
   "source": [
    "#### 32\n",
    "Copy the following and **Paste Special -> Text** into cell **B5**\n",
    "```\n",
    "TRUE\n",
    "Hello PyData\n",
    "-159\n",
    "3.14159\n",
    "5/5/2005\n",
    "2024/01/01 13:14:15\n",
    "0:01:59.4\n",
    "```"
   ]
  },
  {
   "cell_type": "markdown",
   "id": "3c339d1f",
   "metadata": {},
   "source": [
    "---\n",
    "#### 33\n",
    "Create a `=PY` in **C5** and type\n",
    "```python\n",
    "val = xl(\"B5\")\n",
    "type(val).__name__\n",
    "```"
   ]
  },
  {
   "cell_type": "markdown",
   "id": "c2610a9b",
   "metadata": {},
   "source": [
    "Drag the formula to see how each Excel value is converted into Python.\n",
    "\n",
    "**NOTE**: Even though Excel stores dates as numbers, the `xl()` function looks at the formatting to infer dates and times."
   ]
  },
  {
   "cell_type": "markdown",
   "id": "19a0a58d",
   "metadata": {},
   "source": [
    "---\n",
    "#### 34 - Don't Try this at Home!\n",
    "\n",
    "In general, don't drag Python formulas like this\n",
    "\n",
    "We're doing it here so xl() has a single value for input, but normally for contiguous data you want to select the whole range and work with it as a single table.\n",
    "\n",
    "Repeating Python formulas will slow down the execution significantly!"
   ]
  },
  {
   "cell_type": "markdown",
   "id": "5486e21c",
   "metadata": {},
   "source": [
    "---\n",
    "### Range xl() conversion\n",
    "\n",
    "When selecting a range, Excel will attempt to infer if the range has headers.\n",
    "\n",
    "Ranges are **always** converted into pandas DataFrames. If no headers are provided, it defaults to numbered headers (0-based)."
   ]
  },
  {
   "cell_type": "markdown",
   "id": "154408ef",
   "metadata": {},
   "source": [
    "#### 35\n",
    "**Paste Special -> Text** into cell **F5** the following\n",
    "```\n",
    "={\"Student\",\"Score\"; \"Alice\",94; \"Bob\",85; \"Cesar\",92; \"Dot\",88;\"Eustace\",79}\n",
    "```"
   ]
  },
  {
   "cell_type": "markdown",
   "id": "96271a4c",
   "metadata": {},
   "source": [
    "---\n",
    "#### 36\n",
    "Create a `=PY` cell in **I5**.\n",
    "\n",
    "Drag F5:G10. Expect Excel to write `xl(\"F5:G10\", headers=True)` in the formula bar.\n",
    "\n",
    "Create another `=PY` cell in **I6**.\n",
    "\n",
    "Drag F6:G10 (don't include the header). Excel now writes `xl(\"F6:G10\")` in the formula bar.\n",
    "\n",
    "In both cases, the output should say \"[PY] DataFrame\"."
   ]
  },
  {
   "cell_type": "markdown",
   "id": "bc054255",
   "metadata": {},
   "source": [
    "---\n",
    "### Custom xl array conversion\n",
    "\n",
    "What if we don't want a Range to automatically be converted to a pandas DataFrame?\n",
    "\n",
    "We can provide a custom conversion from an Excel Range to a Python object."
   ]
  },
  {
   "cell_type": "markdown",
   "id": "b5701e83",
   "metadata": {},
   "source": [
    "#### 37\n",
    "Create a `=PY` cell in **A1**\n",
    "```python\n",
    "def our_custom_conversion(obj, headers=False, **kwargs):\n",
    "    \"\"\"Convert from Excel to Python\n",
    "\n",
    "    obj is a list of lists\n",
    "    \"\"\"\n",
    "    return np.array(obj)\n",
    "\n",
    "excel.set_xl_array_conversion(our_custom_conversion)\n",
    "\n",
    "\"xl() conversion function\"\n",
    "```\n",
    "\n",
    "Excel ranges will now be converted to a numpy array instead of a pandas DataFrame.\n",
    "\n",
    "You can see that cells **I5** and **I6** now say `ndarray`.\n",
    "\n",
    "Just like custom output reprs, this conversion function affects **all** Python cells.\n",
    "\n",
    "**REMINDER**: A good practice when definining functions or other things which return `None` is to end with a string giving some indication of what the cell does."
   ]
  },
  {
   "cell_type": "markdown",
   "id": "ed9e9597",
   "metadata": {},
   "source": [
    "---\n",
    "#### 38\n",
    "\n",
    "What about scalar conversion?\n",
    "\n",
    "Notice that cells in **Column C** did not change.\n",
    "\n",
    "Scalar conversion can be overwritten using a different function:\n",
    "\n",
    "```python\n",
    "excel.set_xl_scalar_conversion(func)\n",
    "```\n",
    "\n",
    "We're not going to worry about that for now, but it's good to know that it exists."
   ]
  },
  {
   "cell_type": "markdown",
   "id": "a1cdf720",
   "metadata": {},
   "source": [
    "---\n",
    "#### 39\n",
    "Now, can we make our conversion function even more flexible? Of course!\n",
    "\n",
    "Let's update our conversion to allow for:\n",
    "- DataFrame\n",
    "- ndarray\n",
    "- dict\n",
    "- list\n",
    "\n",
    "Update cell **A1** to read\n",
    "```python\n",
    "def our_custom_conversion(obj, headers=False, type='DataFrame', **kwargs):\n",
    "    \"\"\"Convert from Excel to Python\n",
    "\n",
    "    obj is a list of lists\n",
    "    \"\"\"\n",
    "    if type in {None, 'DataFrame', 'pandas', 'pd', 'dataframe'}:\n",
    "        return excel.convert_to_dataframe(obj, headers=headers, **kwargs)\n",
    "    if type in {'ndarray', 'numpy', 'np', 'array'}:\n",
    "        if headers:\n",
    "            raise ValueError('Numpy does not support headers')\n",
    "        return np.array(obj, **kwargs)\n",
    "    if type in {dict, 'dict'}:\n",
    "        return {row[0]: row[1] for row in obj}\n",
    "    if type in {list, 'list'}:\n",
    "        if len(obj) == 1:  # row-wise list\n",
    "            return obj[0]\n",
    "        else:  # col-wise list\n",
    "            return [row[0] for row in obj]\n",
    "    raise TypeError(f'Unknown type: {type}')\n",
    "\n",
    "excel.set_xl_array_conversion(our_custom_conversion)\n",
    "\n",
    "\"xl() conversion function\"\n",
    "```\n",
    "\n",
    "We added a `type` keyword, allowing us to specify what output type we want. Importantly, the default is the usual `DataFrame` so we are adding extra functionality, not changing the default behavior."
   ]
  },
  {
   "cell_type": "markdown",
   "id": "9a76aeab",
   "metadata": {},
   "source": [
    "---\n",
    "#### 40\n",
    "Cells **I5** and **I6** should now say \"[PY] DataFrame\" again.\n",
    "\n",
    "Modify cell **I6** with `type='array'` to convert it to a numpy array."
   ]
  },
  {
   "cell_type": "markdown",
   "id": "b6856d4d",
   "metadata": {},
   "source": [
    "---\n",
    "#### 41\n",
    "\n",
    "Create a `=PY` cell in **I7**\n",
    "```python\n",
    "xl(\"F6:G10\", type='dict')\n",
    "```\n",
    "\n",
    "Now we have an easy way to convert two columns into a Python dict for each lookup tables."
   ]
  },
  {
   "cell_type": "markdown",
   "id": "aad334aa",
   "metadata": {},
   "source": [
    "---\n",
    "#### 42\n",
    "Let's verify the list behavior.\n",
    "\n",
    "Create a `=PY` cell in **I8**\n",
    "```python\n",
    "xl(\"G6:G10\", type=list)\n",
    "```\n",
    "\n",
    "Grabbing a list from a column is very nice rather than needing to extract it from a DataFrame."
   ]
  },
  {
   "cell_type": "markdown",
   "id": "ce69236c",
   "metadata": {},
   "source": [
    "---\n",
    "#### 43 - Discussion\n",
    "\n",
    "Why create and register custom xl() loaders?\n",
    "\n",
    "For a small amount of code in a workbook, probably not worth the effort.\n",
    "\n",
    "For a larger workbook, if pandas DataFrame is not the right input format, a lot of code will be created simply to undo that step, complicating the analysis and making the real logic harder to follow."
   ]
  },
  {
   "cell_type": "markdown",
   "id": "7e921f0a",
   "metadata": {},
   "source": [
    "---\n",
    "### WARNING: xl() is a MACRO, not a function\n",
    "\n",
    "Magic is happening before your code is sent to Azure. Think of xl() as a pre-processing **MACRO**, not as a true function."
   ]
  },
  {
   "cell_type": "markdown",
   "id": "a05c4c52",
   "metadata": {},
   "source": [
    "#### 44\n",
    "This will fail with a **KeyError**\n",
    "```python\n",
    "addr = \"B6\"\n",
    "xl(addr)\n",
    "```"
   ]
  },
  {
   "cell_type": "markdown",
   "id": "0ae2c969",
   "metadata": {},
   "source": [
    "---\n",
    "#### 45\n",
    "This will fail with a **KeyError**\n",
    "```python\n",
    "f'This is a string talking about {xl(\"B6\")}'\n",
    "```"
   ]
  },
  {
   "cell_type": "markdown",
   "id": "401d37dc",
   "metadata": {},
   "source": [
    "---\n",
    "#### 46\n",
    "This will fail with a **KeyError**\n",
    "```python\n",
    "from functools import partial\n",
    "\n",
    "xlheaders = partial(xl, headers=True)\n",
    "xlheaders(\"F5:G10\")\n",
    "```"
   ]
  },
  {
   "cell_type": "markdown",
   "id": "98892b28",
   "metadata": {},
   "source": [
    "#### 47\n",
    "\n",
    "The lesson is that while you can customize how `xl()` is handled, it isn't actually a true function, but rather acts like a pre-process **MACRO**.\n",
    "\n",
    "Excel does some magic to resolve the reference, and the result is given as `obj` to the conversion function. But don't expect `xl()` to be as flexible as normal Python functions.\n",
    "\n",
    "This normally isn't an issue, but is something to be aware of, just in case you see an unexpected **KeyError**."
   ]
  },
  {
   "cell_type": "markdown",
   "id": "5230f605",
   "metadata": {},
   "source": [
    "---\n",
    "# Wrap Up"
   ]
  },
  {
   "cell_type": "markdown",
   "id": "66ec7c73",
   "metadata": {},
   "source": [
    "Hopefully you have some new (advanced) tools in your Excel toolbelt.\n",
    "\n",
    "- Rewriting Python objects to known types with built-in Excel repr support\n",
    "- Creating a custom card view for your Python object\n",
    "- Modifying how Excel data is converted to Python via xl()\n"
   ]
  }
 ],
 "metadata": {
  "kernelspec": {
   "display_name": "Python 3 (ipykernel)",
   "language": "python",
   "name": "python3"
  },
  "language_info": {
   "codemirror_mode": {
    "name": "ipython",
    "version": 3
   },
   "file_extension": ".py",
   "mimetype": "text/x-python",
   "name": "python",
   "nbconvert_exporter": "python",
   "pygments_lexer": "ipython3",
   "version": "3.13.2"
  }
 },
 "nbformat": 4,
 "nbformat_minor": 5
}
