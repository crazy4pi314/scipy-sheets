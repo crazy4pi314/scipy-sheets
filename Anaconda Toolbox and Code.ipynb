{
 "cells": [
  {
   "cell_type": "markdown",
   "id": "368bcd3e-86c3-492e-9c38-1dde61270f9c",
   "metadata": {},
   "source": [
    "# Anaconda Toolbox and Code\n",
    "\n",
    "### SciPy 2025: Develop Pythonic spreadsheets running Python in and out of the grid\n",
    "\n",
    "https://cfp.scipy.org/scipy2025/talk/LZWWA3/\n",
    "\n",
    "### Presenters:\n",
    "\n",
    "- Jim Kitchen (Anaconda)\n",
    "- Sarah Kaiser (Microsoft)\n",
    "\n",
    "### Necessary Tools\n",
    "\n",
    "- Python in Excel\n",
    "   - Should be available in most versions of Excel\n",
    "   - Try typing `=PY` and hit tab\n",
    "- Anaconda account\n",
    "   - Go to anaconda.com and register if you don't already have an account\n",
    "- Install AnacondaToolbox add-in\n",
    "   - Excel -> Home tab -> Add-ins\n",
    "   - Search for \"anaconda\"\n",
    "   - Click AnacondaToolbox, then install\n",
    "   - Verify Anaconda group on Formulas tab"
   ]
  },
  {
   "cell_type": "markdown",
   "id": "851ebe8d-eabc-4b31-99b7-bd9003b4a8a7",
   "metadata": {},
   "source": [
    "# Anaconda Toolbox\n",
    "\n",
    "https://www.anaconda.com/docs/tools/excel/toolbox/main\n",
    "\n",
    "The Toolbox is designed to support Python in Excel.\n",
    "\n",
    "It includes four main functions:\n",
    "\n",
    "1. Visual Chart Builder\n",
    "2. AI Assistant\n",
    "3. Sharing Datasets\n",
    "4. Sharing Code Snippets\n",
    "\n",
    "We will only cover the Visual Chart Builder today."
   ]
  },
  {
   "cell_type": "markdown",
   "id": "8314d8b1-0145-4363-804d-2a06e08f207f",
   "metadata": {},
   "source": [
    "## Visualizations\n",
    "\n",
    "Anaconda Toolbox provides a point-and-click interface to build a variety of seaborn charts."
   ]
  },
  {
   "cell_type": "markdown",
   "id": "90459290-241e-405f-a8db-93822b60da28",
   "metadata": {},
   "source": [
    "---\n",
    "### 1\n",
    "\n",
    "First, create a new Excel workbook.\n",
    "\n",
    "Let's utilize Excel's builtin Python in Excel guide to add the Iris Dataset.\n",
    "\n",
    "Click **Formulas -> Insert Python**, then **Tour Samples**, and Insert the scatter plot example.\n",
    "\n",
    "This should give you a new sheet named **Python sample** with a Table named **IrisDataSet2**.\n",
    "\n",
    "It automatically created a scatterplot.\n",
    "\n",
    "Go ahead and close the Python in Excel samples dialog."
   ]
  },
  {
   "cell_type": "markdown",
   "id": "f9574a71-4d63-43dd-91be-cedfa0567767",
   "metadata": {},
   "source": [
    "---\n",
    "#### 2\n",
    "\n",
    "Let's recreate the scatterplot from the samples using Anaconda Toolbox.\n",
    "\n",
    "1. Open the Anaconda Toolbox from the **Formulas** tab.\n",
    "2. Click on **Visualize with Python**.\n",
    "3. Click **New Chart**.\n",
    "4. Choose **Scatter Chart**.\n",
    "\n"
   ]
  },
  {
   "cell_type": "markdown",
   "id": "a7a1bb20-b177-43a9-a851-ea604f663f76",
   "metadata": {},
   "source": [
    "---\n",
    "#### 3\n",
    "\n",
    "We need to choose the dataset for the chart.\n",
    "\n",
    "Click the **Select** input field next to **Data**.\n",
    "\n",
    "An option appears to select defined tables or to manually choose a range. Let's select the **IrisDataSet2** table."
   ]
  },
  {
   "cell_type": "markdown",
   "id": "df3e1608-ac55-4808-bf74-ca8ac74c73d7",
   "metadata": {},
   "source": [
    "---\n",
    "#### 4\n",
    "\n",
    "The X- and Y-Axis are automatically populated from the input data.\n",
    "\n",
    "Choose **sepal_length** for the X-Axis.\n",
    "\n",
    "Choose **sepal_width** for the Y-Axis."
   ]
  },
  {
   "cell_type": "markdown",
   "id": "98a390eb-1a6d-4fd4-b96c-f57f9d2de113",
   "metadata": {},
   "source": [
    "---\n",
    "#### 5\n",
    "\n",
    "Click on the **Preview** tab.\n",
    "\n",
    "This brings up a preview of what the chart will look like before we write the code to the spreadsheet.\n",
    "\n",
    "We're missing a title, but otherwise this looks nearly identical to the sample chart."
   ]
  },
  {
   "cell_type": "markdown",
   "id": "e7734ed4-10a6-4c52-9fdf-08fd2c73530e",
   "metadata": {},
   "source": [
    "---\n",
    "#### 6\n",
    "\n",
    "Click on the **Code** tab to see the code which our point-and-click interface is generating.\n",
    "\n",
    "You normally don't need to bother with this, but it's available for both:\n",
    "\n",
    "- Learning about seaborn code and how UI options map to lines of code\n",
    "- Manual editing of the code to refine the chart beyond what the UI allows"
   ]
  },
  {
   "cell_type": "markdown",
   "id": "7a33b98e-0f05-4445-a5b0-132ad92411fe",
   "metadata": {},
   "source": [
    "---\n",
    "#### 7\n",
    "\n",
    "Let's add the title and send the chart to the grid.\n",
    "\n",
    "Click the **Design** tab.\n",
    "\n",
    "Set the **Title** to `Sepal length and width analysis`.\n",
    "\n",
    "Now click **Create**. You will be prompted where you want to drop the chart within the spreadsheet.\n",
    "\n",
    "Choose cell **G28**."
   ]
  },
  {
   "cell_type": "markdown",
   "id": "fb099872-1f9d-4c45-bd7f-e88dcef76446",
   "metadata": {},
   "source": [
    "---\n",
    "#### 8\n",
    "\n",
    "Look at the formula in cell **G28**. It should match the **Code** tab we saw earlier.\n",
    "\n",
    "This code is being sent to Python in Excel and produces a chart.\n",
    "\n",
    "Click on the **Create Reference** hover option to make the chart bigger and position it somewhere over the table data."
   ]
  },
  {
   "cell_type": "markdown",
   "id": "fbe202a8-3f36-4b3d-b4d4-8e45cc4769e7",
   "metadata": {},
   "source": [
    "---\n",
    "#### 9\n",
    "\n",
    "The chart can continue to be edited.\n",
    "\n",
    "Let's add more depth to the chart by coloring the points by species.\n",
    "\n",
    "Go the the **Setup** tab.\n",
    "\n",
    "Open the **Color By** option and choose **species**.\n",
    "\n",
    "Click **Apply** and watch the chart in the spreadsheet update.\n",
    "\n",
    "A legend has been added to explain the coloring."
   ]
  },
  {
   "cell_type": "markdown",
   "id": "3a663543-3fa5-4bf7-a199-dbdc2f187112",
   "metadata": {},
   "source": [
    "---\n",
    "#### Personal Exploration Time!\n",
    "\n",
    "#### 10\n",
    "\n",
    "Take some time and try some of the following:\n",
    "\n",
    "1. Update the marker styling of the points so they can be distinguished in black-and-white.\n",
    "2. Position the legend in the upper-left corner.\n",
    "3. Create a new Pairwise Chart. Choose sepal and petal widths and lengths for the variables. Color by species."
   ]
  },
  {
   "cell_type": "markdown",
   "id": "eda3096e-820d-4fe5-9410-25cbe75d3300",
   "metadata": {},
   "source": [
    "---\n",
    "# Anaconda Code\n",
    "\n",
    "https://www.anaconda.com/docs/tools/excel/code\n",
    "\n",
    "Anaconda Code is bundled with the Toolbox, but has a different purpose than the toolbox.\n",
    "\n",
    "Instead of complementing Python in Excel, it offers an alternative way to run Python within Excel using **pyodide**.\n",
    "\n",
    "Pyodide lets you run Python directly in a browser, which is where modern Excel add-ins run. The side panel is an embedded webview.\n",
    "\n",
    "#### Why is this useful?\n",
    "\n",
    "1. Local execution == faster execution (often)\n",
    "2. Ability to install new packages into the pyodide environment\n",
    "3. New run mode --> dependency order instead of row-major order\n",
    "4. User-defined Functions"
   ]
  },
  {
   "cell_type": "markdown",
   "id": "64c94d7a-1511-4429-8a72-36a71e867d62",
   "metadata": {},
   "source": [
    "---\n",
    "#### 11\n",
    "\n",
    "Open up **Sheet1**.\n",
    "\n",
    "Open Anaconda Code in **Formulas -> Anaconda -> Code**."
   ]
  },
  {
   "cell_type": "markdown",
   "id": "13eb44ef-e6f2-4596-9d8f-2608f12ac2f7",
   "metadata": {},
   "source": [
    "---\n",
    "## Add Packages\n",
    "\n",
    "#### 12\n",
    "\n",
    "Click **Customize Environment** so we can add some libraries to our environment.\n",
    "\n",
    "Click **Edit**, then **Add**.\n",
    "\n",
    "Search for **networkx** and **Add**. Then search for **polars** and **Add**.\n",
    "\n",
    "Click **Add Packages**. Then finally **Save Changes**.\n",
    "\n",
    "A progress indicator shows the status of package downloads and installation. This might take a minute or two the first time Anaconda Code is run, but will be faster in the future as packages are cached."
   ]
  },
  {
   "cell_type": "markdown",
   "id": "b3d74b67-551a-44d4-a7f9-5065227bb911",
   "metadata": {},
   "source": [
    "---\n",
    "#### 13\n",
    "\n",
    "Let's add imports for those packages.\n",
    "\n",
    "Click on the **Imports and Definitions** tab.\n",
    "\n",
    "Add the following imports\n",
    "```python\n",
    "import networkx as nx\n",
    "import polars as pl\n",
    "```"
   ]
  },
  {
   "cell_type": "markdown",
   "id": "8f4473fe-0220-4b9d-92a9-300449d8b982",
   "metadata": {},
   "source": [
    "---\n",
    "#### 14\n",
    "\n",
    "Click on the **Home** icon.\n",
    "\n",
    "Then click **Create Code Cell**.\n",
    "\n",
    "Choose cell **B2** and click **OK**.\n",
    "\n",
    "The Python editor opens and we can start writing code."
   ]
  },
  {
   "cell_type": "markdown",
   "id": "37c2c1f6-bd88-40b7-a5f3-32928df3b7a1",
   "metadata": {},
   "source": [
    "---\n",
    "#### 15\n",
    "\n",
    "Enter the code to convert the Iris table to a polars DataFrame.\n",
    "\n",
    "Start first by typing\n",
    "```python\n",
    "data = REF(\n",
    "```\n",
    "A list of all tables defined in the notebook will show as autocomplete options. Hit tab to accept the Iris dataset.\n",
    "\n",
    "Finish adding the code:\n",
    "```python\n",
    "data = REF(\"IrisDataSet2[#All]\")\n",
    "df = pl.DataFrame(data[1:], schema=data[0], orient='row')\n",
    "```\n",
    "\n",
    "By default, the result spills to the grid."
   ]
  },
  {
   "cell_type": "markdown",
   "id": "b56cd83c-47cf-41d9-8301-94a6ee08fd13",
   "metadata": {},
   "source": [
    "---\n",
    "#### 16\n",
    "\n",
    "Anaconda Code supports the same output modes as Python in Excel.\n",
    "\n",
    "Change the output type from Excel Value (**#**) to Python Object (**</>**).\n",
    "\n",
    "Re-run the cell to see the change from spilled data to a card view.\n",
    "\n",
    "_**Note**_: Anaconda Code uses `</>` as the default icon instead of `[PY]` to avoid confusion with Python in Excel cells."
   ]
  },
  {
   "cell_type": "markdown",
   "id": "92ec0be2-7058-4057-b528-683dc66b9ab9",
   "metadata": {},
   "source": [
    "---\n",
    "#### 17\n",
    "\n",
    "Let's use polars to do a simple groupby and column renaming.\n",
    "\n",
    "Create a new Python cell by clicking **Back**, then the green **+**. Place the cell in **B4**.\n",
    "\n",
    "Start by grabbing a reference to the DataFrame.\n",
    "```python\n",
    "df = \n",
    "```\n",
    "\n",
    "Click the **REF** button in the lower-right corner and select cell **B2**.\n",
    "\n",
    "Finish by adding the group by and aggregation code.\n",
    "```python\n",
    "df = REF(\"B2#\")\n",
    "df.group_by(pl.col('species').alias('Species')).agg(\n",
    "    pl.len().alias('Count'),\n",
    "    pl.col('sepal_length').mean().alias('Sepal Length'),\n",
    "    pl.col('sepal_width').mean().alias('Sepal Width'),\n",
    "    pl.col('petal_length').mean().alias('Petal Length'),\n",
    "    pl.col('petal_width').mean().alias('Petal Width'),\n",
    ")\n",
    "```\n",
    "\n",
    "Now we have a nice summary of the average lengths and widths by species."
   ]
  },
  {
   "cell_type": "markdown",
   "id": "23e9b36c-d1e6-4e17-91cf-d59a2e67dc5d",
   "metadata": {},
   "source": [
    "---\n",
    "## Isolated Run Mode\n",
    "\n",
    "#### 18\n",
    "\n",
    "You may be asking why we needed to redefine `df`?\n",
    "\n",
    "The reason is that the default execution mode of Anaconda Code is **Isolated**.\n",
    "\n",
    "This means that Python cells don't share local variables with each other. To get access to the output of a cell, you must explicitly use `REF()`. This is very similar to `xl()` for Python in Excel.\n",
    "\n",
    "Why make this the default mode? It avoid unnecessary recomputation."
   ]
  },
  {
   "cell_type": "markdown",
   "id": "e9cec8b6-f821-4f15-a177-abaded0a388c",
   "metadata": {},
   "source": [
    "---\n",
    "#### 19\n",
    "\n",
    "Let's demonstrate with a fun example. Mandelbrots!\n",
    "\n",
    "1. Enter a plain **128** in cell **A10**\n",
    "2. Create a new Anaconda Code cell in **B10**\n",
    "3. Paste in the code\n",
    "\n",
    "```python\n",
    "import matplotlib.pyplot as plt\n",
    "import numpy as np\n",
    "import io\n",
    "from PIL import Image\n",
    "\n",
    "def complex_matrix(xmin, xmax, ymin, ymax, pixel_density):\n",
    "    re = np.linspace(xmin, xmax, int((xmax - xmin) * pixel_density))\n",
    "    im = np.linspace(ymin, ymax, int((ymax - ymin) * pixel_density))\n",
    "    return re[np.newaxis, :] + im[:, np.newaxis] * 1j\n",
    "\n",
    "def is_stable(c, num_iterations):\n",
    "    z = 0\n",
    "    for _ in range(num_iterations):\n",
    "        z = z ** 2 + c\n",
    "    return abs(z) <= 2\n",
    "\n",
    "def get_members(c, num_iterations):\n",
    "    mask = is_stable(c, num_iterations)\n",
    "    return c[mask]\n",
    "\n",
    "c = complex_matrix(-2, 0.5, -1.5, 1.5, pixel_density=REF(\"A10\"))\n",
    "plt.imshow(is_stable(c, num_iterations=20), cmap=\"binary\")\n",
    "plt.gca().set_aspect(\"equal\")\n",
    "plt.axis(\"off\")\n",
    "plt.tight_layout(pad=0)\n",
    "\n",
    "# Save image\n",
    "buf = io.BytesIO()\n",
    "plt.savefig(buf)\n",
    "buf.seek(0)\n",
    "img = Image.open(buf)\n",
    "img\n",
    "```\n",
    "\n",
    "4. Create a reference to this so it's easier to see"
   ]
  },
  {
   "cell_type": "markdown",
   "id": "d9d0168a-ee51-4759-877b-3bf54e0ce542",
   "metadata": {},
   "source": [
    "---\n",
    "#### 20\n",
    "\n",
    "Notice that line 21 contains `REF(\"A10\")`.\n",
    "\n",
    "The pixel density of the mandelbrot image is based on the value in cell **A10**.\n",
    "\n",
    "Change **A10** to 5, then 32, then 512 to see the impact."
   ]
  },
  {
   "cell_type": "markdown",
   "id": "b80c14f9-f09b-4b69-9d73-af8e0e1c8293",
   "metadata": {},
   "source": [
    "---\n",
    "#### 21\n",
    "\n",
    "You probably didn't notice, but the Polars group by calculation never updated while you made those changes.\n",
    "\n",
    "If this were Python in Excel, the Polars DataFrame and group by would have recalculated every time.\n",
    "\n",
    "But in **isolated** mode, only cells with a `REF()` to the changed cell get run.\n",
    "\n",
    "This is standard Excel behavior, and it is the default way which Anaconda Code runs. No need to think about row-major order or have calculations slow down when there are lots of Python cells in a spreadsheet."
   ]
  },
  {
   "attachments": {},
   "cell_type": "markdown",
   "id": "bc4a403b-d37d-49e5-a218-3afeb22efe5e",
   "metadata": {},
   "source": [
    "---\n",
    "## User Defined Functions (UDFs)\n",
    "\n",
    "#### 22\n",
    "\n",
    "User-defined functions are defined in the Imports and Definitions, and can be called directly from Excel without creating a new Python cell.\n",
    "\n",
    "1. Click on the **Imports and Definitions** tab\n",
    "2. Add this code below `# Define classes and functions`\n",
    "\n",
    "```python\n",
    "@UDF(name='ORG.STRUCTURE', nested=False)\n",
    "def org_structure(elist: UDF.Range, start, end, header=True):\n",
    "    if header:\n",
    "        elist = elist[1:]\n",
    "    G = nx.from_edgelist(elist)\n",
    "    return nx.shortest_path(G, start, end)\n",
    "```\n",
    "\n",
    "3. Click **Apply**\n",
    "4. Add data to cell **K1** using copy, then **Paste Special -> Text**\n",
    "```\n",
    "={\"Manager\",\"Employee\"; \"Alice\",\"Bob\";\"Alice\",\"Caitlyn\"; \"Alice\",\"Doreen\"; \"Bob\",\"Ellis\"; \"Bob\",\"Fred\"; \"Bob\",\"Gregory\"; \"Caitlyn\",\"Heidi\"; \"Doreen\",\"Ishmael\"; \"Doreen\",\"Jaoquin\"; \"Doreen\",\"Katherine\"; \"Doreen\",\"Lynn\"; \"Fred\",\"Mary\"; \"Fred\",\"Nora\"; \"Ishmael\",\"Olive\"; \"Jaoquin\",\"Peter\"; \"Jaoquin\",\"Quinn\"; \"Nora\",\"Ross\"; \"Nora\",\"Stephen\"; \"Nora\",\"Telly\"; \"Quinn\",\"Ursula\"; \"Quinn\",\"Vanessa\"; \"Bob\",\"Walter\"; \"Walter\",\"Xavier\"; \"Peter\",\"Yane\"; \"Vanessa\",\"Zoe\"}\n",
    "```\n",
    "\n",
    "What does this do?\n",
    "\n",
    "It registers the function `org_structure` with Excel so that it can be called as `=ORG.STRUCTURE()`."
   ]
  },
  {
   "cell_type": "markdown",
   "id": "69485968-6f24-40b8-b5b1-78083333dfdc",
   "metadata": {},
   "source": [
    "---\n",
    "#### 23\n",
    "\n",
    "Enter in cell **N2**\n",
    "```\n",
    "=ORG.STRUCTURE(K1#, K2, L26)\n",
    "```\n",
    "\n",
    "Okay, what is happening here?\n",
    "\n",
    "We have a manager-employee listing, which is known as an **edgelist** in graph theory. We can construct the graph using **networkx** and call the `shortest_path` algorithm to find the path between any two employees.\n",
    "\n",
    "Importantly, we call it like a normal Excel function and pass data in like a normal function.\n",
    "\n",
    "It just happens to call the function we defined in **Imports and Definitions**."
   ]
  },
  {
   "cell_type": "markdown",
   "id": "d4be9f98-7e37-4154-a53c-a031effaa7c7",
   "metadata": {},
   "source": [
    "---\n",
    "#### 24\n",
    "\n",
    "Because it is a now a normal Excel function, we can mix and match with other Excel functions.\n",
    "\n",
    "Let's make the result spill horizontally rather than vertically.\n",
    "\n",
    "Modify cell **N2**\n",
    "```\n",
    "=TRANSPOSE(ORG.STRUCTURE(K1#, K2, L26))\n",
    "```"
   ]
  },
  {
   "cell_type": "markdown",
   "id": "cda36605-330a-4b43-bd42-cde8b3ae8762",
   "metadata": {},
   "source": [
    "---\n",
    "# Wrap Up\n",
    "\n",
    "- [Anaconda Toolbox](https://www.anaconda.com/docs/tools/excel/toolbox/main) attempts to make Python in Excel more useful\n",
    "    - Visual Chart Builder\n",
    "    - AI Assistant\n",
    "    - Sharing datasets and code snippets with colleagues\n",
    "- [Anaconda Code](https://www.anaconda.com/docs/tools/excel/code) reimagines how Python in Excel could work\n",
    "    - Local runtime\n",
    "    - Ability to install additional libraries\n",
    "    - Isolated run mode\n",
    "    - User-defined functions (UDFs)\n",
    "    - Supports R in Excel"
   ]
  },
  {
   "cell_type": "code",
   "execution_count": null,
   "id": "c2401d3c-a6db-4247-ace6-13c130e5bd58",
   "metadata": {},
   "outputs": [],
   "source": []
  }
 ],
 "metadata": {
  "kernelspec": {
   "display_name": "Python 3 (ipykernel)",
   "language": "python",
   "name": "python3"
  },
  "language_info": {
   "codemirror_mode": {
    "name": "ipython",
    "version": 3
   },
   "file_extension": ".py",
   "mimetype": "text/x-python",
   "name": "python",
   "nbconvert_exporter": "python",
   "pygments_lexer": "ipython3",
   "version": "3.13.2"
  }
 },
 "nbformat": 4,
 "nbformat_minor": 5
}
